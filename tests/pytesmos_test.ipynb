{
 "cells": [
  {
   "cell_type": "code",
   "execution_count": 1,
   "metadata": {},
   "outputs": [],
   "source": [
    "# Libraries\n",
    "from ismn.interface import ISMN_Interface\n",
    "import numpy as np\n",
    "import matplotlib.pyplot as plt "
   ]
  },
  {
   "cell_type": "code",
   "execution_count": 3,
   "metadata": {},
   "outputs": [
    {
     "name": "stdout",
     "output_type": "stream",
     "text": [
      "Processing metadata for all ismn stations into folder ..\\data\\raw\\ISMN_2012_2020.zip.\n",
      "This may take a few minutes, but is only done once...\n",
      "Hint: Use `parallel=True` to speed up metadata generation for large datasets\n"
     ]
    },
    {
     "name": "stderr",
     "output_type": "stream",
     "text": [
      "Files Processed: 0it [00:00, ?it/s]"
     ]
    },
    {
     "name": "stdout",
     "output_type": "stream",
     "text": [
      "Metadata generation finished after 0 Seconds.\n",
      "Metadata and Log stored in ..\\data\\raw\\python_metadata\n"
     ]
    },
    {
     "name": "stderr",
     "output_type": "stream",
     "text": [
      "\n"
     ]
    },
    {
     "ename": "ValueError",
     "evalue": "No objects to concatenate",
     "output_type": "error",
     "traceback": [
      "\u001b[1;31m---------------------------------------------------------------------------\u001b[0m",
      "\u001b[1;31mValueError\u001b[0m                                Traceback (most recent call last)",
      "\u001b[1;32mc:\\Users\\andre\\Desktop\\PMW_LST\\tests\\pytesmos_test.ipynb Cell 2\u001b[0m line \u001b[0;36m3\n\u001b[0;32m      <a href='vscode-notebook-cell:/c%3A/Users/andre/Desktop/PMW_LST/tests/pytesmos_test.ipynb#W1sZmlsZQ%3D%3D?line=0'>1</a>\u001b[0m \u001b[39m# Either a .zip file or one folder that contains all networks, here we read from .zip\u001b[39;00m\n\u001b[0;32m      <a href='vscode-notebook-cell:/c%3A/Users/andre/Desktop/PMW_LST/tests/pytesmos_test.ipynb#W1sZmlsZQ%3D%3D?line=1'>2</a>\u001b[0m data_path \u001b[39m=\u001b[39m \u001b[39m\"\u001b[39m\u001b[39m../data/raw/ISMN_2012_2020.zip\u001b[39m\u001b[39m\"\u001b[39m\n\u001b[1;32m----> <a href='vscode-notebook-cell:/c%3A/Users/andre/Desktop/PMW_LST/tests/pytesmos_test.ipynb#W1sZmlsZQ%3D%3D?line=2'>3</a>\u001b[0m ismn_data \u001b[39m=\u001b[39m ISMN_Interface(data_path)\n",
      "File \u001b[1;32mc:\\Users\\andre\\Desktop\\PMW_LST\\venv\\lib\\site-packages\\ismn\\interface.py:146\u001b[0m, in \u001b[0;36mISMN_Interface.__init__\u001b[1;34m(self, data_path, meta_path, network, parallel, keep_loaded_data, temp_root, custom_meta_reader)\u001b[0m\n\u001b[0;32m    143\u001b[0m \u001b[39mself\u001b[39m\u001b[39m.\u001b[39mmeta_path \u001b[39m=\u001b[39m meta_path\n\u001b[0;32m    144\u001b[0m \u001b[39mself\u001b[39m\u001b[39m.\u001b[39mtemp_root \u001b[39m=\u001b[39m temp_root\n\u001b[1;32m--> 146\u001b[0m \u001b[39mself\u001b[39;49m\u001b[39m.\u001b[39;49mactivate_network(\n\u001b[0;32m    147\u001b[0m     network\u001b[39m=\u001b[39;49mnetwork,\n\u001b[0;32m    148\u001b[0m     meta_path\u001b[39m=\u001b[39;49m\u001b[39mself\u001b[39;49m\u001b[39m.\u001b[39;49mmeta_path,\n\u001b[0;32m    149\u001b[0m     temp_root\u001b[39m=\u001b[39;49m\u001b[39mself\u001b[39;49m\u001b[39m.\u001b[39;49mtemp_root)\n",
      "File \u001b[1;32mc:\\Users\\andre\\Desktop\\PMW_LST\\venv\\lib\\site-packages\\ismn\\interface.py:178\u001b[0m, in \u001b[0;36mISMN_Interface.activate_network\u001b[1;34m(self, network, meta_path, temp_root)\u001b[0m\n\u001b[0;32m    170\u001b[0m \u001b[39mif\u001b[39;00m \u001b[39mnot\u001b[39;00m os\u001b[39m.\u001b[39mpath\u001b[39m.\u001b[39misfile(meta_csv_file):\n\u001b[0;32m    171\u001b[0m     \u001b[39mself\u001b[39m\u001b[39m.\u001b[39m__file_collection \u001b[39m=\u001b[39m IsmnFileCollection\u001b[39m.\u001b[39mbuild_from_scratch(\n\u001b[0;32m    172\u001b[0m         \u001b[39mself\u001b[39m\u001b[39m.\u001b[39mroot,\n\u001b[0;32m    173\u001b[0m         parallel\u001b[39m=\u001b[39m\u001b[39mself\u001b[39m\u001b[39m.\u001b[39mparallel,\n\u001b[1;32m   (...)\u001b[0m\n\u001b[0;32m    176\u001b[0m         custom_meta_readers\u001b[39m=\u001b[39m\u001b[39mself\u001b[39m\u001b[39m.\u001b[39mcustom_meta_reader,\n\u001b[0;32m    177\u001b[0m     )\n\u001b[1;32m--> 178\u001b[0m     \u001b[39mself\u001b[39;49m\u001b[39m.\u001b[39;49m__file_collection\u001b[39m.\u001b[39;49mto_metadata_csv(meta_csv_file)\n\u001b[0;32m    180\u001b[0m \u001b[39mself\u001b[39m\u001b[39m.\u001b[39m__file_collection \u001b[39m=\u001b[39m IsmnFileCollection\u001b[39m.\u001b[39mfrom_metadata_csv(\n\u001b[0;32m    181\u001b[0m     \u001b[39mself\u001b[39m\u001b[39m.\u001b[39mroot, meta_csv_file, network\u001b[39m=\u001b[39mnetwork)\n\u001b[0;32m    183\u001b[0m networks \u001b[39m=\u001b[39m \u001b[39mself\u001b[39m\u001b[39m.\u001b[39m_collect()\n",
      "File \u001b[1;32mc:\\Users\\andre\\Desktop\\PMW_LST\\venv\\lib\\site-packages\\ismn\\filecollection.py:430\u001b[0m, in \u001b[0;36mIsmnFileCollection.to_metadata_csv\u001b[1;34m(self, meta_csv_file)\u001b[0m\n\u001b[0;32m    427\u001b[0m     dfs\u001b[39m.\u001b[39mappend(df)\n\u001b[0;32m    428\u001b[0m     i \u001b[39m+\u001b[39m\u001b[39m=\u001b[39m \u001b[39m1\u001b[39m\n\u001b[1;32m--> 430\u001b[0m dfs \u001b[39m=\u001b[39m pd\u001b[39m.\u001b[39;49mconcat(dfs, axis\u001b[39m=\u001b[39;49m\u001b[39m0\u001b[39;49m, sort\u001b[39m=\u001b[39;49m\u001b[39mTrue\u001b[39;49;00m)\n\u001b[0;32m    431\u001b[0m cols_end \u001b[39m=\u001b[39m [\u001b[39m\"\u001b[39m\u001b[39mfile_path\u001b[39m\u001b[39m\"\u001b[39m, \u001b[39m\"\u001b[39m\u001b[39mfile_type\u001b[39m\u001b[39m\"\u001b[39m]\n\u001b[0;32m    433\u001b[0m dfs \u001b[39m=\u001b[39m dfs[[c \u001b[39mfor\u001b[39;00m c \u001b[39min\u001b[39;00m dfs\u001b[39m.\u001b[39mcolumns \u001b[39mif\u001b[39;00m c[\u001b[39m0\u001b[39m] \u001b[39mnot\u001b[39;00m \u001b[39min\u001b[39;00m cols_end] \u001b[39m+\u001b[39m\n\u001b[0;32m    434\u001b[0m           [c \u001b[39mfor\u001b[39;00m c \u001b[39min\u001b[39;00m dfs\u001b[39m.\u001b[39mcolumns \u001b[39mif\u001b[39;00m c[\u001b[39m0\u001b[39m] \u001b[39min\u001b[39;00m cols_end]]\n",
      "File \u001b[1;32mc:\\Users\\andre\\Desktop\\PMW_LST\\venv\\lib\\site-packages\\pandas\\core\\reshape\\concat.py:380\u001b[0m, in \u001b[0;36mconcat\u001b[1;34m(objs, axis, join, ignore_index, keys, levels, names, verify_integrity, sort, copy)\u001b[0m\n\u001b[0;32m    377\u001b[0m \u001b[39melif\u001b[39;00m copy \u001b[39mand\u001b[39;00m using_copy_on_write():\n\u001b[0;32m    378\u001b[0m     copy \u001b[39m=\u001b[39m \u001b[39mFalse\u001b[39;00m\n\u001b[1;32m--> 380\u001b[0m op \u001b[39m=\u001b[39m _Concatenator(\n\u001b[0;32m    381\u001b[0m     objs,\n\u001b[0;32m    382\u001b[0m     axis\u001b[39m=\u001b[39;49maxis,\n\u001b[0;32m    383\u001b[0m     ignore_index\u001b[39m=\u001b[39;49mignore_index,\n\u001b[0;32m    384\u001b[0m     join\u001b[39m=\u001b[39;49mjoin,\n\u001b[0;32m    385\u001b[0m     keys\u001b[39m=\u001b[39;49mkeys,\n\u001b[0;32m    386\u001b[0m     levels\u001b[39m=\u001b[39;49mlevels,\n\u001b[0;32m    387\u001b[0m     names\u001b[39m=\u001b[39;49mnames,\n\u001b[0;32m    388\u001b[0m     verify_integrity\u001b[39m=\u001b[39;49mverify_integrity,\n\u001b[0;32m    389\u001b[0m     copy\u001b[39m=\u001b[39;49mcopy,\n\u001b[0;32m    390\u001b[0m     sort\u001b[39m=\u001b[39;49msort,\n\u001b[0;32m    391\u001b[0m )\n\u001b[0;32m    393\u001b[0m \u001b[39mreturn\u001b[39;00m op\u001b[39m.\u001b[39mget_result()\n",
      "File \u001b[1;32mc:\\Users\\andre\\Desktop\\PMW_LST\\venv\\lib\\site-packages\\pandas\\core\\reshape\\concat.py:443\u001b[0m, in \u001b[0;36m_Concatenator.__init__\u001b[1;34m(self, objs, axis, join, keys, levels, names, ignore_index, verify_integrity, copy, sort)\u001b[0m\n\u001b[0;32m    440\u001b[0m \u001b[39mself\u001b[39m\u001b[39m.\u001b[39mverify_integrity \u001b[39m=\u001b[39m verify_integrity\n\u001b[0;32m    441\u001b[0m \u001b[39mself\u001b[39m\u001b[39m.\u001b[39mcopy \u001b[39m=\u001b[39m copy\n\u001b[1;32m--> 443\u001b[0m objs, keys \u001b[39m=\u001b[39m \u001b[39mself\u001b[39;49m\u001b[39m.\u001b[39;49m_clean_keys_and_objs(objs, keys)\n\u001b[0;32m    445\u001b[0m \u001b[39m# figure out what our result ndim is going to be\u001b[39;00m\n\u001b[0;32m    446\u001b[0m ndims \u001b[39m=\u001b[39m \u001b[39mself\u001b[39m\u001b[39m.\u001b[39m_get_ndims(objs)\n",
      "File \u001b[1;32mc:\\Users\\andre\\Desktop\\PMW_LST\\venv\\lib\\site-packages\\pandas\\core\\reshape\\concat.py:505\u001b[0m, in \u001b[0;36m_Concatenator._clean_keys_and_objs\u001b[1;34m(self, objs, keys)\u001b[0m\n\u001b[0;32m    502\u001b[0m     objs_list \u001b[39m=\u001b[39m \u001b[39mlist\u001b[39m(objs)\n\u001b[0;32m    504\u001b[0m \u001b[39mif\u001b[39;00m \u001b[39mlen\u001b[39m(objs_list) \u001b[39m==\u001b[39m \u001b[39m0\u001b[39m:\n\u001b[1;32m--> 505\u001b[0m     \u001b[39mraise\u001b[39;00m \u001b[39mValueError\u001b[39;00m(\u001b[39m\"\u001b[39m\u001b[39mNo objects to concatenate\u001b[39m\u001b[39m\"\u001b[39m)\n\u001b[0;32m    507\u001b[0m \u001b[39mif\u001b[39;00m keys \u001b[39mis\u001b[39;00m \u001b[39mNone\u001b[39;00m:\n\u001b[0;32m    508\u001b[0m     objs_list \u001b[39m=\u001b[39m \u001b[39mlist\u001b[39m(com\u001b[39m.\u001b[39mnot_none(\u001b[39m*\u001b[39mobjs_list))\n",
      "\u001b[1;31mValueError\u001b[0m: No objects to concatenate"
     ]
    }
   ],
   "source": [
    "# Either a .zip file or one folder that contains all networks, here we read from .zip\n",
    "data_path = \"../data/raw/ISMN_2012_2020.zip\"\n",
    "ismn_data = ISMN_Interface(data_path)"
   ]
  },
  {
   "cell_type": "code",
   "execution_count": null,
   "metadata": {},
   "outputs": [],
   "source": []
  }
 ],
 "metadata": {
  "kernelspec": {
   "display_name": "venv",
   "language": "python",
   "name": "python3"
  },
  "language_info": {
   "codemirror_mode": {
    "name": "ipython",
    "version": 3
   },
   "file_extension": ".py",
   "mimetype": "text/x-python",
   "name": "python",
   "nbconvert_exporter": "python",
   "pygments_lexer": "ipython3",
   "version": "3.10.7"
  }
 },
 "nbformat": 4,
 "nbformat_minor": 2
}
