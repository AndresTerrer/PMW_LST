{
 "cells": [
  {
   "cell_type": "markdown",
   "metadata": {},
   "source": [
    "### Grid Harmonization\n",
    "We decided to explore harmonization to 25 km (converting EASE to EASE2 may be problematic; if that is the case, go to 36 km). Atlas emissivity data needs to be regridded as well. \n"
   ]
  },
  {
   "cell_type": "code",
   "execution_count": null,
   "metadata": {},
   "outputs": [],
   "source": [
    "# Load a day of each data:\n",
    "\n",
    "\"\"\" \n",
    "First I need to download a file for each dataset\n",
    "    - LPDR_v2 .tif files (EASE v1)\n",
    "    - AMSR2 for Carla´s TFM (EASE v1)\n",
    "    - AMSR2-L3 reprojected to EASE v2\n",
    "    - WINDSAT daily (Regular earth grid, 0.25º, 32km res)\n",
    "    - ERA5-Land hourly (Regular lat-lon 0.1º x 0.1º)\n",
    "\"\"\"\n",
    "\n"
   ]
  }
 ],
 "metadata": {
  "language_info": {
   "name": "python"
  }
 },
 "nbformat": 4,
 "nbformat_minor": 2
}
