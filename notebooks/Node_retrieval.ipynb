{
 "cells": [
  {
   "cell_type": "code",
   "execution_count": 1,
   "metadata": {},
   "outputs": [],
   "source": [
    "# Libraries\n",
    "import xarray as xr\n",
    "import pandas as pd\n",
    "import h5py\n",
    "\n",
    "\n",
    "# Custom functions\n",
    "from processing import load_zip, apply_scaling\n",
    "\n",
    "# Global variables\n",
    "node = 200 # This was a good example\n",
    "\n",
    "ka_path = '/Users/andresterrer/Desktop/VS Code/DATA/ka.zip'\n",
    "ismn_path = '/Users/andresterrer/Desktop/VS Code/DATA/ISMN_dataset.h5'\n",
    "\n",
    "nodeinfo_path = '/Users/andresterrer/Desktop/VS Code/DATA/node_info.csv'\n"
   ]
  },
  {
   "cell_type": "code",
   "execution_count": 2,
   "metadata": {},
   "outputs": [
    {
     "data": {
      "text/plain": [
       "(array([67.25729]), array([26.74857]))"
      ]
     },
     "execution_count": 2,
     "metadata": {},
     "output_type": "execute_result"
    }
   ],
   "source": [
    "# Load the nodeinfo dataframe and select for the node \n",
    "\n",
    "df = pd.read_csv(nodeinfo_path)\n",
    "df.columns\n",
    "node_lat, node_lon = df[df['nodeid'] == node]['node_latitude'].values, df[df['nodeid'] == node]['node_longitude'].values\n",
    "node_lat, node_lon"
   ]
  },
  {
   "cell_type": "code",
   "execution_count": 3,
   "metadata": {},
   "outputs": [
    {
     "name": "stdout",
     "output_type": "stream",
     "text": [
      "Loading zipfile from /Users/andresterrer/Desktop/VS Code/DATA/ka.zip\n"
     ]
    },
    {
     "name": "stderr",
     "output_type": "stream",
     "text": [
      "  0%|          | 0/754 [00:00<?, ?it/s]"
     ]
    },
    {
     "name": "stderr",
     "output_type": "stream",
     "text": [
      "  0%|          | 0/754 [00:00<?, ?it/s]\n"
     ]
    },
    {
     "ename": "ValueError",
     "evalue": "found the following matches with the input file in xarray's IO backends: ['h5netcdf']. But their dependencies may not be installed, see:\nhttps://docs.xarray.dev/en/stable/user-guide/io.html \nhttps://docs.xarray.dev/en/stable/getting-started-guide/installing.html",
     "output_type": "error",
     "traceback": [
      "\u001b[0;31m---------------------------------------------------------------------------\u001b[0m",
      "\u001b[0;31mValueError\u001b[0m                                Traceback (most recent call last)",
      "\u001b[1;32m/Users/andresterrer/Desktop/VS Code/TFM/notebooks/Node_retrieval.ipynb Cell 3\u001b[0m line \u001b[0;36m3\n\u001b[1;32m      <a href='vscode-notebook-cell:/Users/andresterrer/Desktop/VS%20Code/TFM/notebooks/Node_retrieval.ipynb#W2sZmlsZQ%3D%3D?line=0'>1</a>\u001b[0m \u001b[39m# Load the ka.zip, select for a given longitude and latitude \u001b[39;00m\n\u001b[0;32m----> <a href='vscode-notebook-cell:/Users/andresterrer/Desktop/VS%20Code/TFM/notebooks/Node_retrieval.ipynb#W2sZmlsZQ%3D%3D?line=2'>3</a>\u001b[0m xarray_dataset \u001b[39m=\u001b[39m load_zip(ka_path)\n\u001b[1;32m      <a href='vscode-notebook-cell:/Users/andresterrer/Desktop/VS%20Code/TFM/notebooks/Node_retrieval.ipynb#W2sZmlsZQ%3D%3D?line=3'>4</a>\u001b[0m scaled_xarray \u001b[39m=\u001b[39m apply_scaling(xarray_dataset)\n",
      "File \u001b[0;32m~/Desktop/VS Code/TFM/notebooks/processing.py:72\u001b[0m, in \u001b[0;36mload_zip\u001b[0;34m(path)\u001b[0m\n\u001b[1;32m     70\u001b[0m \u001b[39m# Load the HDF5 file data into an Xarray dataset\u001b[39;00m\n\u001b[1;32m     71\u001b[0m h5_data_io \u001b[39m=\u001b[39m io\u001b[39m.\u001b[39mBytesIO(h5_data)\n\u001b[0;32m---> 72\u001b[0m h5_xarray \u001b[39m=\u001b[39m xr\u001b[39m.\u001b[39;49mopen_dataset(h5_data_io)\n\u001b[1;32m     74\u001b[0m \u001b[39m# Extract the date from the file name using the regex pattern\u001b[39;00m\n\u001b[1;32m     75\u001b[0m date_match \u001b[39m=\u001b[39m re\u001b[39m.\u001b[39msearch(date_pattern, file_name)\n",
      "File \u001b[0;32m~/Desktop/VS Code/venv/lib/python3.9/site-packages/xarray/backends/api.py:554\u001b[0m, in \u001b[0;36mopen_dataset\u001b[0;34m(filename_or_obj, engine, chunks, cache, decode_cf, mask_and_scale, decode_times, decode_timedelta, use_cftime, concat_characters, decode_coords, drop_variables, inline_array, chunked_array_type, from_array_kwargs, backend_kwargs, **kwargs)\u001b[0m\n\u001b[1;32m    551\u001b[0m     kwargs\u001b[39m.\u001b[39mupdate(backend_kwargs)\n\u001b[1;32m    553\u001b[0m \u001b[39mif\u001b[39;00m engine \u001b[39mis\u001b[39;00m \u001b[39mNone\u001b[39;00m:\n\u001b[0;32m--> 554\u001b[0m     engine \u001b[39m=\u001b[39m plugins\u001b[39m.\u001b[39;49mguess_engine(filename_or_obj)\n\u001b[1;32m    556\u001b[0m \u001b[39mif\u001b[39;00m from_array_kwargs \u001b[39mis\u001b[39;00m \u001b[39mNone\u001b[39;00m:\n\u001b[1;32m    557\u001b[0m     from_array_kwargs \u001b[39m=\u001b[39m {}\n",
      "File \u001b[0;32m~/Desktop/VS Code/venv/lib/python3.9/site-packages/xarray/backends/plugins.py:197\u001b[0m, in \u001b[0;36mguess_engine\u001b[0;34m(store_spec)\u001b[0m\n\u001b[1;32m    189\u001b[0m \u001b[39melse\u001b[39;00m:\n\u001b[1;32m    190\u001b[0m     error_msg \u001b[39m=\u001b[39m (\n\u001b[1;32m    191\u001b[0m         \u001b[39m\"\u001b[39m\u001b[39mfound the following matches with the input file in xarray\u001b[39m\u001b[39m'\u001b[39m\u001b[39ms IO \u001b[39m\u001b[39m\"\u001b[39m\n\u001b[1;32m    192\u001b[0m         \u001b[39mf\u001b[39m\u001b[39m\"\u001b[39m\u001b[39mbackends: \u001b[39m\u001b[39m{\u001b[39;00mcompatible_engines\u001b[39m}\u001b[39;00m\u001b[39m. But their dependencies may not be installed, see:\u001b[39m\u001b[39m\\n\u001b[39;00m\u001b[39m\"\u001b[39m\n\u001b[1;32m    193\u001b[0m         \u001b[39m\"\u001b[39m\u001b[39mhttps://docs.xarray.dev/en/stable/user-guide/io.html \u001b[39m\u001b[39m\\n\u001b[39;00m\u001b[39m\"\u001b[39m\n\u001b[1;32m    194\u001b[0m         \u001b[39m\"\u001b[39m\u001b[39mhttps://docs.xarray.dev/en/stable/getting-started-guide/installing.html\u001b[39m\u001b[39m\"\u001b[39m\n\u001b[1;32m    195\u001b[0m     )\n\u001b[0;32m--> 197\u001b[0m \u001b[39mraise\u001b[39;00m \u001b[39mValueError\u001b[39;00m(error_msg)\n",
      "\u001b[0;31mValueError\u001b[0m: found the following matches with the input file in xarray's IO backends: ['h5netcdf']. But their dependencies may not be installed, see:\nhttps://docs.xarray.dev/en/stable/user-guide/io.html \nhttps://docs.xarray.dev/en/stable/getting-started-guide/installing.html"
     ]
    }
   ],
   "source": [
    "# Load the ka.zip, select for a given longitude and latitude \n",
    "\n",
    "xarray_dataset = load_zip(ka_path)\n",
    "scaled_xarray = apply_scaling(xarray_dataset)"
   ]
  },
  {
   "cell_type": "code",
   "execution_count": null,
   "metadata": {},
   "outputs": [],
   "source": []
  }
 ],
 "metadata": {
  "kernelspec": {
   "display_name": "venv",
   "language": "python",
   "name": "python3"
  },
  "language_info": {
   "codemirror_mode": {
    "name": "ipython",
    "version": 3
   },
   "file_extension": ".py",
   "mimetype": "text/x-python",
   "name": "python",
   "nbconvert_exporter": "python",
   "pygments_lexer": "ipython3",
   "version": "3.9.18"
  },
  "orig_nbformat": 4
 },
 "nbformat": 4,
 "nbformat_minor": 2
}
