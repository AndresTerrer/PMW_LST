{
 "cells": [
  {
   "cell_type": "code",
   "execution_count": 97,
   "metadata": {},
   "outputs": [],
   "source": [
    "import xarray as xr\n",
    "import zipfile\n",
    "import re\n",
    "import io\n",
    "\n",
    "from datetime import datetime, date\n",
    "\n",
    "path = \"../data/raw/ka.zip\""
   ]
  },
  {
   "cell_type": "code",
   "execution_count": 98,
   "metadata": {},
   "outputs": [],
   "source": [
    "with zipfile.ZipFile(path, \"r\") as zip_file:\n",
    "    file_list = zip_file.namelist()"
   ]
  },
  {
   "cell_type": "code",
   "execution_count": 99,
   "metadata": {},
   "outputs": [],
   "source": [
    "# if the date has no day, the special character is M and that means that it´s the monthly average.\n",
    "\n",
    "\"\"\" \n",
    "<zip_name>/<frequency>/GW1AM\"_YYYYmmdd_01< D: dayly / M: monthly>_<Ascending / Descending pass>_L3SGT36LA2220220_corrected.h5\n",
    "\n",
    "We need to extract: \n",
    "    dayly and monthly xarrays\n",
    "\n",
    "\"\"\"\n",
    "\n",
    "# Regex for extracting this information\n",
    "isday_regex = r\"_01D_\"\n",
    "date_regex = r\"_(\\d{4})(\\d{2})(\\d{2})_\"\n",
    "pass_regex = r\"_EQM([AD])_\"\n",
    "\n",
    "\n",
    "# First, separate the daily and monthly files\n",
    "with zipfile.ZipFile(path, \"r\") as zip_file:\n",
    "    file_list = zip_file.namelist()\n",
    "\n",
    "    day_files = []\n",
    "    month_files = []\n",
    "\n",
    "    for file_name in file_list:\n",
    "        # Check and separate the monthly and daily files:\n",
    "        is_day = re.findall(pattern=isday_regex, string=file_name)\n",
    "\n",
    "        if is_day:\n",
    "            day_files.append(file_name)\n",
    "        else:\n",
    "            month_files.append(file_name)\n",
    "\n",
    "    # Now we call the same function to load an xarray for each list\n",
    "\n",
    "\n",
    "file_list\n",
    "[]"
   ]
  },
  {
   "cell_type": "code",
   "execution_count": 5,
   "metadata": {},
   "outputs": [
    {
     "name": "stdout",
     "output_type": "stream",
     "text": [
      "730\n",
      "24\n"
     ]
    }
   ],
   "source": [
    "print(len(day_files))\n",
    "print(len(month_files))"
   ]
  },
  {
   "cell_type": "code",
   "execution_count": 77,
   "metadata": {},
   "outputs": [],
   "source": [
    "class ZipLoader:\n",
    "    def __init__(self, path):\n",
    "        self.path = path\n",
    "        # Separate daily data from monthly averages\n",
    "        self.day_files, self.month_files = self.SeparateDayMonth()\n",
    "\n",
    "        # Create the empty xarrays\n",
    "        self.coords = self.GetCoordinates()\n",
    "\n",
    "        self.daily_data = xr.Dataset(coords=self.coords)\n",
    "        self.montly_data = xr.Dataset(coords=self.coords)\n",
    "\n",
    "    def __str__(self) -> str:\n",
    "        response = (\n",
    "            f\"Loading {self.path}\"\n",
    "            f\"\\n Daily files {len(self.day_files)}\"\n",
    "            f\"\\n Monthly files {len(self.month_files)}\"\n",
    "            f\"\\n Coordinates: {self.coords.sizes} \\n\"\n",
    "        )\n",
    "        return response\n",
    "\n",
    "    def SeparateDayMonth(self):\n",
    "        with zipfile.ZipFile(self.path, \"r\") as zip_file:\n",
    "            file_list = zip_file.namelist()\n",
    "            day_files = []\n",
    "            month_files = []\n",
    "\n",
    "            for file_name in file_list:\n",
    "                # Check and separate the monthly and daily files:\n",
    "                is_day = re.findall(pattern=isday_regex, string=file_name)\n",
    "\n",
    "                if is_day:\n",
    "                    day_files.append(file_name)\n",
    "\n",
    "                elif file_name.endswith(\".h5\"):  # Avoid the main folder\n",
    "                    month_files.append(file_name)\n",
    "\n",
    "        return day_files, month_files\n",
    "\n",
    "    def GetCoordinates(self):\n",
    "        \"\"\"\n",
    "        Returns the latitude and longitude shapes of the dataset\n",
    "        \"\"\"\n",
    "\n",
    "        # Load the first day file to get the size of the lat-lon dimensions\n",
    "        with zipfile.ZipFile(self.path, \"r\") as zip_file:\n",
    "            with zip_file.open(self.day_files[0]) as h5_file:\n",
    "                h5_data = h5_file.read()\n",
    "                h5_data_io = io.BytesIO(h5_data)\n",
    "                h5_xarray = xr.open_dataset(h5_data_io)\n",
    "\n",
    "            return h5_xarray.coords\n",
    "\n",
    "    def LoadDailyData(self):\n",
    "        \"\"\"\n",
    "        Populate the empty xarray with the data and add the time dimention\n",
    "        \"\"\"\n",
    "        times = []\n",
    "        for file_name in self.day_files:\n",
    "            time = self.GetTime(file_name)\n",
    "            times.append(time)\n",
    "\n",
    "        # Modify the xarray and add the new time dimention\n",
    "\n",
    "        self.daily_data.assign_coords()\n",
    "\n",
    "        pass\n",
    "\n",
    "    def GetTime(self, file_name):\n",
    "        \"\"\"\n",
    "        Given a filename, return its date\n",
    "        \"\"\"\n",
    "        date_regex = r\"_(\\d{4})(\\d{2})(\\d{2})_\"\n",
    "        year, month, day = [\n",
    "            int(value) for value in re.findall(date_regex, file_name)[0]\n",
    "        ]\n",
    "\n",
    "        if day == 0:\n",
    "            return datetime(year, month, 1)\n",
    "\n",
    "        return datetime(year, month, day)"
   ]
  },
  {
   "cell_type": "code",
   "execution_count": 96,
   "metadata": {},
   "outputs": [
    {
     "data": {
      "text/plain": [
       "datetime.date(2017, 1, 1)"
      ]
     },
     "execution_count": 96,
     "metadata": {},
     "output_type": "execute_result"
    }
   ],
   "source": [
    "date_regex = r\"_(\\d{4})(\\d{2})(\\d{2})_\"\n",
    "\n",
    "file_name = \"ka_sample/36ghz/GW1AM2_20170100_01M_EQMA_L3SGT36LA2220220_corrected.h5\"\n",
    "\n",
    "year, month, day = [int(value) for value in re.findall(date_regex, file_name)[0]]\n",
    "\n",
    "date(year, month, day=1)"
   ]
  },
  {
   "cell_type": "code",
   "execution_count": 78,
   "metadata": {},
   "outputs": [
    {
     "name": "stdout",
     "output_type": "stream",
     "text": [
      "Loading ../data/raw/ka.zip\n",
      " Daily files 730\n",
      " Monthly files 24\n",
      " Coordinates: Frozen({'lon': 1388, 'lat': 584}) \n",
      "\n"
     ]
    }
   ],
   "source": [
    "# path = \"../data/raw/ka.zip\"\n",
    "loader = ZipLoader(path)\n",
    "print(loader)"
   ]
  },
  {
   "cell_type": "code",
   "execution_count": 72,
   "metadata": {},
   "outputs": [],
   "source": [
    "with zipfile.ZipFile(path, \"r\") as zip_file:\n",
    "    file_list = zip_file.namelist()\n",
    "    with zip_file.open(file_list[1]) as h5_file:\n",
    "        # Read the HDF5 file data\n",
    "        h5_data = h5_file.read()\n",
    "\n",
    "        # Load the HDF5 file data into an Xarray dataset\n",
    "        h5_data_io = io.BytesIO(h5_data)\n",
    "        h5_xarray = xr.open_dataset(h5_data_io)\n",
    "        coords = h5_xarray.coords"
   ]
  },
  {
   "cell_type": "code",
   "execution_count": 74,
   "metadata": {},
   "outputs": [
    {
     "data": {
      "text/plain": [
       "Frozen({'lon': 1388, 'lat': 584})"
      ]
     },
     "execution_count": 74,
     "metadata": {},
     "output_type": "execute_result"
    }
   ],
   "source": []
  },
  {
   "cell_type": "code",
   "execution_count": 65,
   "metadata": {},
   "outputs": [
    {
     "data": {
      "text/plain": [
       "'lat'"
      ]
     },
     "execution_count": 65,
     "metadata": {},
     "output_type": "execute_result"
    }
   ],
   "source": []
  },
  {
   "cell_type": "code",
   "execution_count": null,
   "metadata": {},
   "outputs": [],
   "source": []
  }
 ],
 "metadata": {
  "kernelspec": {
   "display_name": ".venv",
   "language": "python",
   "name": "python3"
  },
  "language_info": {
   "codemirror_mode": {
    "name": "ipython",
    "version": 3
   },
   "file_extension": ".py",
   "mimetype": "text/x-python",
   "name": "python",
   "nbconvert_exporter": "python",
   "pygments_lexer": "ipython3",
   "version": "3.9.11"
  }
 },
 "nbformat": 4,
 "nbformat_minor": 2
}
