{
 "cells": [
  {
   "cell_type": "code",
   "execution_count": 14,
   "metadata": {},
   "outputs": [],
   "source": [
    "import xarray as xr\n",
    "import zipfile\n",
    "import re\n",
    "\n",
    "path = \"../data/raw/ka_sample.zip\""
   ]
  },
  {
   "cell_type": "code",
   "execution_count": 12,
   "metadata": {},
   "outputs": [],
   "source": [
    "with zipfile.ZipFile(path, \"r\") as zip_file:\n",
    "    file_list = zip_file.namelist()"
   ]
  },
  {
   "cell_type": "code",
   "execution_count": 13,
   "metadata": {},
   "outputs": [
    {
     "data": {
      "text/plain": [
       "['ka_sample/36ghz/',\n",
       " 'ka_sample/36ghz/GW1AM2_20170100_01M_EQMA_L3SGT36LA2220220_corrected.h5',\n",
       " 'ka_sample/36ghz/GW1AM2_20170100_01M_EQMD_L3SGT36LA2220220_corrected.h5',\n",
       " 'ka_sample/36ghz/GW1AM2_20170101_01D_EQMA_L3SGT36LA2220220_corrected.h5',\n",
       " 'ka_sample/36ghz/GW1AM2_20170101_01D_EQMD_L3SGT36LA2220220_corrected.h5',\n",
       " 'ka_sample/36ghz/GW1AM2_20170102_01D_EQMA_L3SGT36LA2220220_corrected.h5']"
      ]
     },
     "execution_count": 13,
     "metadata": {},
     "output_type": "execute_result"
    }
   ],
   "source": [
    "file_list\n",
    "\n",
    "# if the date has no day, the special character is M and that means that it´s the monthly average.\n",
    "\n",
    "\"\"\" \n",
    "<zip_name>/<frequency>/GW1AM\"_YYYYmmdd_01< D: dayly / M: monthly>_<Ascending / Descending pass>_L3SGT36LA2220220_corrected.h5\n",
    "\n",
    "We need to extract: \n",
    "    dayly and monthly xarrays\n",
    "\n",
    "\"\"\"\n",
    "\n",
    "# Regex for extracting this information\n",
    "mothorday_regex = r\"_01([MD])_\"\n",
    "date_regex = r\"_(\\d{4})(\\d{2})(\\d{2})_\"\n",
    "pass_regex = r\"_EQM([AD])_\"\n",
    "\n",
    "\n",
    "with zipfile.ZipFile(path, \"r\") as zip_file:\n",
    "    file_list = zip_file.namelist()\n",
    "\n",
    "    for file_name in file_list:\n",
    "        # Check and separate the monthly and daily files:\n",
    "\n",
    "        is_monthly = re.match(pattern=mothorday_regex, string=file_name)"
   ]
  },
  {
   "cell_type": "code",
   "execution_count": null,
   "metadata": {},
   "outputs": [],
   "source": []
  }
 ],
 "metadata": {
  "kernelspec": {
   "display_name": ".venv",
   "language": "python",
   "name": "python3"
  },
  "language_info": {
   "codemirror_mode": {
    "name": "ipython",
    "version": 3
   },
   "file_extension": ".py",
   "mimetype": "text/x-python",
   "name": "python",
   "nbconvert_exporter": "python",
   "pygments_lexer": "ipython3",
   "version": "3.9.11"
  }
 },
 "nbformat": 4,
 "nbformat_minor": 2
}
