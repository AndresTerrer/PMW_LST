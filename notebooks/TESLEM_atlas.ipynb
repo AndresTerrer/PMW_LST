{
 "cells": [
  {
   "cell_type": "code",
   "execution_count": 1,
   "metadata": {},
   "outputs": [],
   "source": [
    "# Try to read the emissivity data from TESLEM atlas file\n",
    "\n",
    "import numpy as np\n",
    "import pandas as pd\n",
    "import matplotlib.pyplot as plt\n",
    "import re\n"
   ]
  },
  {
   "cell_type": "code",
   "execution_count": 2,
   "metadata": {},
   "outputs": [],
   "source": [
    "file_path = r\"C:\\Users\\andre\\Desktop\\TELSEM\\telsem2_mw_atlas\\ssmi_mean_emis_climato_01_cov_interpol_M2\"\n",
    "\n",
    "try:\n",
    "    with open(file_path, \"r\") as file:\n",
    "        content = file.read().split(\"\\n\")\n",
    "        content = [c.strip() for c in content]\n",
    "except FileNotFoundError:\n",
    "    print(f\"The file '{file_path}' does not exist.\")\n",
    "except IOError:\n",
    "    print(f\"An error occurred while reading the file '{file_path}'.\")\n"
   ]
  },
  {
   "cell_type": "code",
   "execution_count": 50,
   "metadata": {},
   "outputs": [
    {
     "name": "stdout",
     "output_type": "stream",
     "text": [
      "80  0.851150 0.694974 0.852954 0.860778 0.742279 0.821671 0.757044 0.000173 0.000130 0.000183 0.000090 0.000219 0.001040 0.000837  6 21\n"
     ]
    }
   ],
   "source": [
    "print(content[1])\n",
    "\n",
    "columns = {\n",
    "    0: \"CELL_NUM\",\n",
    "    1: \"19V\",\n",
    "    2: \"19H\",\n",
    "    3: \"22V\",\n",
    "    4: \"37V\",\n",
    "    5: \"37H\",\n",
    "    6: \"85V\",\n",
    "    7: \"85H\",\n",
    "    8: \"VAR19V\",\n",
    "    9: \"VAR19H\",\n",
    "    10: \"VAR22V\",\n",
    "    11: \"VAR37V\",\n",
    "    12: \"VAR37H\",\n",
    "    13: \"VAR85V\",\n",
    "    14: \"VAR85H\",\n",
    "    15: \"STD85H\",\n",
    "    16: \"SURFACE_CLASS\"\n",
    "}"
   ]
  },
  {
   "cell_type": "code",
   "execution_count": 54,
   "metadata": {},
   "outputs": [],
   "source": [
    "df = pd.DataFrame()\n",
    "data = [[columns[i], value] for i, value in enumerate(content[1].split())]"
   ]
  },
  {
   "cell_type": "code",
   "execution_count": 48,
   "metadata": {},
   "outputs": [
    {
     "data": {
      "text/plain": [
       "['80  0.851150 0.694974 0.852954 0.860778 0.742279 0.821671 0.757044 0.000173 0.000130 0.000183 0.000090 0.000219 0.001040 0.000837  6 21',\n",
       " '81  0.850715 0.694205 0.852940 0.862427 0.742945 0.830328 0.764085 0.000176 0.000133 0.000187 0.000096 0.000214 0.000828 0.000759  6 21',\n",
       " '82  0.848923 0.688440 0.850987 0.862822 0.738313 0.845982 0.776129 0.000189 0.000141 0.000199 0.000113 0.000203 0.000484 0.000583  6 21',\n",
       " '83  0.848579 0.684609 0.849558 0.860756 0.732303 0.853847 0.782463 0.000204 0.000156 0.000215 0.000127 0.000202 0.000290 0.000474  6 21']"
      ]
     },
     "execution_count": 48,
     "metadata": {},
     "output_type": "execute_result"
    }
   ],
   "source": [
    "content[:5]"
   ]
  },
  {
   "cell_type": "code",
   "execution_count": 56,
   "metadata": {},
   "outputs": [
    {
     "name": "stderr",
     "output_type": "stream",
     "text": [
      "C:\\Users\\andre\\AppData\\Local\\Temp\\ipykernel_20260\\2586253930.py:6: FutureWarning: The behavior of DataFrame concatenation with empty or all-NA entries is deprecated. In a future version, this will no longer exclude empty or all-NA columns when determining the result dtypes. To retain the old behavior, exclude the relevant entries before the concat operation.\n",
      "  df = pd.concat([df, pd.DataFrame([data], columns=df.columns)], ignore_index=True)\n"
     ]
    }
   ],
   "source": [
    "df = pd.DataFrame(columns= list(columns.values()))\n",
    "for line in content[1:100]:\n",
    "    # Split each line by whitespace and map values to column names\n",
    "    data = [line.split()[0]] + [float(value) for value in line.split()[1:]]\n",
    "    # Append the row to the list of rows\n",
    "    df = pd.concat([df, pd.DataFrame([data], columns=df.columns)], ignore_index=True)\n",
    "\n"
   ]
  },
  {
   "cell_type": "code",
   "execution_count": null,
   "metadata": {},
   "outputs": [],
   "source": []
  }
 ],
 "metadata": {
  "kernelspec": {
   "display_name": ".venv",
   "language": "python",
   "name": "python3"
  },
  "language_info": {
   "codemirror_mode": {
    "name": "ipython",
    "version": 3
   },
   "file_extension": ".py",
   "mimetype": "text/x-python",
   "name": "python",
   "nbconvert_exporter": "python",
   "pygments_lexer": "ipython3",
   "version": "3.9.11"
  }
 },
 "nbformat": 4,
 "nbformat_minor": 2
}
