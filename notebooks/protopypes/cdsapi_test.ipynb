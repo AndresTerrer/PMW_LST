{
 "cells": [
  {
   "cell_type": "markdown",
   "metadata": {},
   "source": [
    "\n",
    "setup the cds api key in PS\n",
    "\n",
    "PS C:\\Users\\andre\\Desktop\\VS_Code\\PMW_LST> @\"\n",
    ">> url:https://cds.climate.copernicus.eu/api/v2\n",
    ">> key:304697:d5598eeb-1c86-43e5-b753-bd6fc93c562f   \n",
    ">> \"@| Set-Content -Path \"$env:USERPROFILE\\.cdsapiric\" \n",
    "\n"
   ]
  },
  {
   "cell_type": "code",
   "execution_count": 29,
   "metadata": {},
   "outputs": [],
   "source": [
    "import cdsapi\n",
    "import os\n",
    "from datetime import timedelta, date\n",
    "\n",
    "cds = cdsapi.Client()"
   ]
  },
  {
   "cell_type": "markdown",
   "metadata": {},
   "source": [
    "### Test 1\n",
    "Try to download a whole day, to later match each Windsat data point \"time\" with the closest value from ERA5-Land"
   ]
  },
  {
   "cell_type": "code",
   "execution_count": 25,
   "metadata": {},
   "outputs": [
    {
     "name": "stderr",
     "output_type": "stream",
     "text": [
      "2024-05-02 09:25:18,800 INFO Welcome to the CDS\n",
      "2024-05-02 09:25:18,801 INFO Sending request to https://cds.climate.copernicus.eu/api/v2/resources/reanalysis-era5-land\n",
      "2024-05-02 09:25:18,973 INFO Downloading https://download-0017.copernicus-climate.eu/cache-compute-0017/cache/data0/adaptor.mars.internal-1714633524.9217231-12934-13-2a61af53-189a-4adb-9e0a-b39785811897.zip to ../data/raw/ERA5_land/Jan1st2017.netcdf.zip (247M)\n",
      "2024-05-02 09:38:49,091 INFO Download rate 312.3K/s   \n"
     ]
    }
   ],
   "source": [
    "dataset_name = \"reanalysis-era5-land\"\n",
    "\n",
    "request = {\n",
    "    \"variable\":[\n",
    "        \"skin_temperature\",\n",
    "        \"soil_temperature_level_1\",\n",
    "        \"temperature_of_snow_layer\",\n",
    "    ],\n",
    "    \"year\": \"2017\",\n",
    "    \"month\": \"01\",\n",
    "    \"day\": \"01\",\n",
    "    'time': [\n",
    "        '00:00', '01:00', '02:00',\n",
    "        '03:00', '04:00', '05:00',\n",
    "        '06:00', '07:00', '08:00',\n",
    "        '09:00', '10:00', '11:00',\n",
    "        '12:00', '13:00', '14:00',\n",
    "        '15:00', '16:00', '17:00',\n",
    "        '18:00', '19:00', '20:00',\n",
    "        '21:00', '22:00', '23:00',\n",
    "    ],\n",
    "    \"format\": \"netcdf.zip\",\n",
    "}\n",
    "\n",
    "target = \"../data/raw/ERA5_land/Jan1st2017.netcdf.zip\"\n",
    "\n",
    "if  not os.path.exists(target):\n",
    "    try:\n",
    "        cds.retrieve(\n",
    "            name=dataset_name,\n",
    "            request=request,\n",
    "            target=target,\n",
    "        )\n",
    "    except:\n",
    "        #Delete the unfinished file:\n",
    "        os.remove(target)\n",
    "        print(f\"Removed {target} file.\")\n",
    "\n",
    "else:\n",
    "    print(f\"Data file {target} allready exists, donwload skipped.\")"
   ]
  },
  {
   "cell_type": "markdown",
   "metadata": {},
   "source": [
    "Next, a simple loop to download all hours from a range of dates"
   ]
  },
  {
   "cell_type": "code",
   "execution_count": 22,
   "metadata": {},
   "outputs": [
    {
     "name": "stdout",
     "output_type": "stream",
     "text": [
      "Data file ../data/raw/ERA5_land/Jan1st2017.netcdf.zip allready exists, donwload skipped.\n"
     ]
    }
   ],
   "source": [
    "dataset_name = \"reanalysis-era5-land\"\n",
    "start_date = date(2017,1,1)\n",
    "end_date = date(2017,1,7)\n",
    "\n",
    "# Create the request using the starting date\n",
    "year = str(start_date.year).zfill(4)\n",
    "month = str(start_date.month).zfill(2)\n",
    "day = str(start_date.day).zfill(2)\n",
    "\n",
    "all_hours = [f\"{hour:02d}:00\" for hour in range(24)]\n",
    "\n",
    "request = {\n",
    "    \"variable\":\n",
    "    [\n",
    "        \"skin_temperature\",\n",
    "        \"soil_temperature_level_1\",\n",
    "        \"temperature_of_snow_layer\",\n",
    "    ],\n",
    "    \"year\": year,\n",
    "    \"month\": month,\n",
    "    \"day\": day,\n",
    "    \"time\": all_hours,\n",
    "    \"format\": \"netcdf.zip\",\n",
    "}\n",
    "\n",
    "target = f\"../data/raw/ERA5_land/{request['year']}_{request['month']}_{request['day']}.zip\"\n",
    "\n",
    "if  not os.path.exists(target):\n",
    "    try:\n",
    "        cds.retrieve(\n",
    "            name=dataset_name,\n",
    "            request=request,\n",
    "            target=target,\n",
    "        )\n",
    "    except:\n",
    "        os.remove(target)\n",
    "        print(f\"Removed compromised file {target}.\")\n",
    "\n",
    "else:\n",
    "    print(f\"Data file {target} allready exists, donwload skipped.\")\n"
   ]
  },
  {
   "cell_type": "markdown",
   "metadata": {},
   "source": [
    "### -Use asyncio- INTENTIONALY NOT SUPORTED\n",
    "We _CANT_ make a few requests in batches to speed the download (at least in the erc server)"
   ]
  },
  {
   "cell_type": "code",
   "execution_count": null,
   "metadata": {},
   "outputs": [],
   "source": [
    "\n",
    "# async def concurrent_download(dates:list[datetime.date], save_dir:str):\n",
    "#     tasks =[]\n",
    "\n",
    "#     # Call the api\n",
    "#     cds = cdsapi.Client()\n",
    "\n",
    "#     for date in dates:\n",
    "\n",
    "#     return\n",
    "\n"
   ]
  },
  {
   "cell_type": "code",
   "execution_count": 45,
   "metadata": {},
   "outputs": [],
   "source": [
    "# Loop over a list of dates:\n",
    "def get_base_request() -> dict:\n",
    "    all_hours = [f\"{hour:02d}:00\" for hour in range(24)]\n",
    "\n",
    "    base_request = {\n",
    "        \"variable\":\n",
    "        [\n",
    "            \"skin_temperature\",\n",
    "            \"soil_temperature_level_1\",\n",
    "            \"temperature_of_snow_layer\",\n",
    "        ],\n",
    "        \"year\": None,\n",
    "        \"month\": None,\n",
    "        \"day\": None,\n",
    "        \"time\": all_hours,\n",
    "        \"format\": \"netcdf.zip\",\n",
    "    }\n",
    "    return base_request\n",
    "\n",
    "\n",
    "def single_download(cds:cdsapi.Client, date:date, folder_path:str) -> None:\n",
    "    request = get_base_request()\n",
    "\n",
    "    # Update the  base request using the date\n",
    "    request[\"year\"] = str(date.year).zfill(4)\n",
    "    request[\"month\"] = str(date.month).zfill(2)\n",
    "    request[\"day\"] = str(date.day).zfill(2)\n",
    "\n",
    "    # Name the target file acordingly:\n",
    "    filename = f\"{request['year']}_{request['month']}_{request['day']}.zip\"\n",
    "    target = os.path.join(folder_path, filename)\n",
    "\n",
    "\n",
    "    # Process only unexisting, full downloads\n",
    "    if  not os.path.exists(target):\n",
    "        try:\n",
    "            cds.retrieve(\n",
    "                name=dataset_name,\n",
    "                request=request,\n",
    "                target=target,\n",
    "            )\n",
    "        except:\n",
    "            os.remove(target)\n",
    "            print(f\"Removed compromised file {target}.\")\n",
    "\n",
    "    else:\n",
    "        print(f\"Data file {target} allready exists, donwload skipped.\")\n",
    "\n",
    "def download_many(dates:list[date], save_dir:str) -> None:\n",
    "\n",
    "    cds = cdsapi.Client()\n",
    "\n",
    "    for i,date in enumerate(dates):\n",
    "        print(f\"Downloading atempt {i}/{len(dates)}.\")\n",
    "        single_download(cds, date, save_dir)\n",
    "        print(\"NEXT\")\n",
    "\n",
    "    print(\"DONE\")\n",
    "\n"
   ]
  },
  {
   "cell_type": "code",
   "execution_count": 46,
   "metadata": {},
   "outputs": [
    {
     "name": "stdout",
     "output_type": "stream",
     "text": [
      "Downloading atempt 0/2.\n",
      "Data file ../data/raw/ERA5_land/2017_01_01.zip allready exists, donwload skipped.\n",
      "NEXT\n",
      "Downloading atempt 1/2.\n",
      "Data file ../data/raw/ERA5_land/2017_01_02.zip allready exists, donwload skipped.\n",
      "NEXT\n",
      "DONE\n",
      "CPU times: total: 0 ns\n",
      "Wall time: 1e+03 µs\n"
     ]
    }
   ],
   "source": [
    "start_date = date(2017,1,1)\n",
    "end_date = date(2017,1,2)\n",
    "\n",
    "dates = [\n",
    "        start_date + timedelta(days=i) for i in range((end_date - start_date).days + 1)\n",
    "    ]\n",
    "save_dir = \"../data/raw/ERA5_land/\"\n",
    "%time download_many(dates, save_dir)"
   ]
  },
  {
   "cell_type": "code",
   "execution_count": null,
   "metadata": {},
   "outputs": [],
   "source": []
  }
 ],
 "metadata": {
  "kernelspec": {
   "display_name": ".venv",
   "language": "python",
   "name": "python3"
  },
  "language_info": {
   "codemirror_mode": {
    "name": "ipython",
    "version": 3
   },
   "file_extension": ".py",
   "mimetype": "text/x-python",
   "name": "python",
   "nbconvert_exporter": "python",
   "pygments_lexer": "ipython3",
   "version": "3.11.5"
  }
 },
 "nbformat": 4,
 "nbformat_minor": 2
}
